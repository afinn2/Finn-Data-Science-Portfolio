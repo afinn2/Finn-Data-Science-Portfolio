{
 "cells": [
  {
   "cell_type": "code",
   "execution_count": 1,
   "id": "d4dbdef1",
   "metadata": {},
   "outputs": [],
   "source": [
    "import pandas as pd\n",
    "import seaborn as sn\n",
    "import numpy as np"
   ]
  },
  {
   "cell_type": "markdown",
   "id": "ef364645",
   "metadata": {},
   "source": [
    "Initial cleaning:\n",
    "1. Import csv\n",
    "2. Separate medalists from event so I can make medalists the main independent variable; event name(s) and medal(s) earned will be the dependent variables.\n",
    "3. Melt\n",
    "4. Remove na rows - now there are only rows when a medalist medals in an event"
   ]
  },
  {
   "cell_type": "code",
   "execution_count": 2,
   "id": "da6f2b53",
   "metadata": {},
   "outputs": [
    {
     "data": {
      "text/html": [
       "<div>\n",
       "<style scoped>\n",
       "    .dataframe tbody tr th:only-of-type {\n",
       "        vertical-align: middle;\n",
       "    }\n",
       "\n",
       "    .dataframe tbody tr th {\n",
       "        vertical-align: top;\n",
       "    }\n",
       "\n",
       "    .dataframe thead th {\n",
       "        text-align: right;\n",
       "    }\n",
       "</style>\n",
       "<table border=\"1\" class=\"dataframe\">\n",
       "  <thead>\n",
       "    <tr style=\"text-align: right;\">\n",
       "      <th></th>\n",
       "      <th>medalist_name</th>\n",
       "      <th>event</th>\n",
       "      <th>medal_color</th>\n",
       "    </tr>\n",
       "  </thead>\n",
       "  <tbody>\n",
       "    <tr>\n",
       "      <th>177</th>\n",
       "      <td>Bair Badënov</td>\n",
       "      <td>male_archery</td>\n",
       "      <td>bronze</td>\n",
       "    </tr>\n",
       "    <tr>\n",
       "      <th>676</th>\n",
       "      <td>Ilario Di Buò</td>\n",
       "      <td>male_archery</td>\n",
       "      <td>silver</td>\n",
       "    </tr>\n",
       "    <tr>\n",
       "      <th>682</th>\n",
       "      <td>Im Dong-hyun</td>\n",
       "      <td>male_archery</td>\n",
       "      <td>gold</td>\n",
       "    </tr>\n",
       "    <tr>\n",
       "      <th>760</th>\n",
       "      <td>Jiang Lin</td>\n",
       "      <td>male_archery</td>\n",
       "      <td>bronze</td>\n",
       "    </tr>\n",
       "    <tr>\n",
       "      <th>920</th>\n",
       "      <td>Lee Chang-hwan</td>\n",
       "      <td>male_archery</td>\n",
       "      <td>gold</td>\n",
       "    </tr>\n",
       "    <tr>\n",
       "      <th>...</th>\n",
       "      <td>...</td>\n",
       "      <td>...</td>\n",
       "      <td>...</td>\n",
       "    </tr>\n",
       "    <tr>\n",
       "      <th>130932</th>\n",
       "      <td>Steeve Guénot</td>\n",
       "      <td>male_greco-roman wrestling</td>\n",
       "      <td>gold</td>\n",
       "    </tr>\n",
       "    <tr>\n",
       "      <th>131159</th>\n",
       "      <td>Yannick Szczepaniak</td>\n",
       "      <td>male_greco-roman wrestling</td>\n",
       "      <td>bronze</td>\n",
       "    </tr>\n",
       "    <tr>\n",
       "      <th>131162</th>\n",
       "      <td>Yavor Yanakiev</td>\n",
       "      <td>male_greco-roman wrestling</td>\n",
       "      <td>bronze</td>\n",
       "    </tr>\n",
       "    <tr>\n",
       "      <th>131200</th>\n",
       "      <td>Yury Patrikeyev</td>\n",
       "      <td>male_greco-roman wrestling</td>\n",
       "      <td>bronze</td>\n",
       "    </tr>\n",
       "    <tr>\n",
       "      <th>131234</th>\n",
       "      <td>Zoltán Fodor</td>\n",
       "      <td>male_greco-roman wrestling</td>\n",
       "      <td>silver</td>\n",
       "    </tr>\n",
       "  </tbody>\n",
       "</table>\n",
       "<p>1875 rows × 3 columns</p>\n",
       "</div>"
      ],
      "text/plain": [
       "              medalist_name                       event medal_color\n",
       "177            Bair Badënov                male_archery      bronze\n",
       "676           Ilario Di Buò                male_archery      silver\n",
       "682            Im Dong-hyun                male_archery        gold\n",
       "760               Jiang Lin                male_archery      bronze\n",
       "920          Lee Chang-hwan                male_archery        gold\n",
       "...                     ...                         ...         ...\n",
       "130932        Steeve Guénot  male_greco-roman wrestling        gold\n",
       "131159  Yannick Szczepaniak  male_greco-roman wrestling      bronze\n",
       "131162       Yavor Yanakiev  male_greco-roman wrestling      bronze\n",
       "131200      Yury Patrikeyev  male_greco-roman wrestling      bronze\n",
       "131234         Zoltán Fodor  male_greco-roman wrestling      silver\n",
       "\n",
       "[1875 rows x 3 columns]"
      ]
     },
     "metadata": {},
     "output_type": "display_data"
    }
   ],
   "source": [
    "df = pd.read_csv(\"C:/Users/amcco/Documents/GitHub/Finn-Data-Science-Portfolio/TidyData_Project/olympics_08_medalists.csv\")\n",
    "events = df.columns.drop(\"medalist_name\")\n",
    "df_melted = pd.melt(df, id_vars = 'medalist_name',value_vars = events, var_name = 'event', value_name = 'medal_color')\n",
    "df_medals = df_melted.dropna()\n",
    "display(df_medals)\n"
   ]
  },
  {
   "cell_type": "markdown",
   "id": "88d05a87",
   "metadata": {},
   "source": [
    "Result: Each variable has its own column and each observation has its own row - clean!"
   ]
  },
  {
   "cell_type": "markdown",
   "id": "24d4a514",
   "metadata": {},
   "source": [
    "Separating data frame into three separate data frames - one for each medal\n",
    "1. Identify rows with silver and bronze medals\n",
    "2. Create a data frame without them"
   ]
  },
  {
   "cell_type": "code",
   "execution_count": 3,
   "id": "ee8c7109",
   "metadata": {},
   "outputs": [
    {
     "data": {
      "text/html": [
       "<div>\n",
       "<style scoped>\n",
       "    .dataframe tbody tr th:only-of-type {\n",
       "        vertical-align: middle;\n",
       "    }\n",
       "\n",
       "    .dataframe tbody tr th {\n",
       "        vertical-align: top;\n",
       "    }\n",
       "\n",
       "    .dataframe thead th {\n",
       "        text-align: right;\n",
       "    }\n",
       "</style>\n",
       "<table border=\"1\" class=\"dataframe\">\n",
       "  <thead>\n",
       "    <tr style=\"text-align: right;\">\n",
       "      <th></th>\n",
       "      <th>medalist_name</th>\n",
       "      <th>event</th>\n",
       "      <th>medal_color</th>\n",
       "    </tr>\n",
       "  </thead>\n",
       "  <tbody>\n",
       "    <tr>\n",
       "      <th>682</th>\n",
       "      <td>Im Dong-hyun</td>\n",
       "      <td>male_archery</td>\n",
       "      <td>gold</td>\n",
       "    </tr>\n",
       "    <tr>\n",
       "      <th>920</th>\n",
       "      <td>Lee Chang-hwan</td>\n",
       "      <td>male_archery</td>\n",
       "      <td>gold</td>\n",
       "    </tr>\n",
       "    <tr>\n",
       "      <th>1710</th>\n",
       "      <td>Viktor Ruban</td>\n",
       "      <td>male_archery</td>\n",
       "      <td>gold</td>\n",
       "    </tr>\n",
       "    <tr>\n",
       "      <th>2656</th>\n",
       "      <td>Joo Hyun-Jung</td>\n",
       "      <td>female_archery</td>\n",
       "      <td>gold</td>\n",
       "    </tr>\n",
       "    <tr>\n",
       "      <th>3705</th>\n",
       "      <td>Zhang Juanjuan</td>\n",
       "      <td>female_archery</td>\n",
       "      <td>gold</td>\n",
       "    </tr>\n",
       "  </tbody>\n",
       "</table>\n",
       "</div>"
      ],
      "text/plain": [
       "       medalist_name           event medal_color\n",
       "682     Im Dong-hyun    male_archery        gold\n",
       "920   Lee Chang-hwan    male_archery        gold\n",
       "1710    Viktor Ruban    male_archery        gold\n",
       "2656   Joo Hyun-Jung  female_archery        gold\n",
       "3705  Zhang Juanjuan  female_archery        gold"
      ]
     },
     "metadata": {},
     "output_type": "display_data"
    },
    {
     "data": {
      "text/html": [
       "<div>\n",
       "<style scoped>\n",
       "    .dataframe tbody tr th:only-of-type {\n",
       "        vertical-align: middle;\n",
       "    }\n",
       "\n",
       "    .dataframe tbody tr th {\n",
       "        vertical-align: top;\n",
       "    }\n",
       "\n",
       "    .dataframe thead th {\n",
       "        text-align: right;\n",
       "    }\n",
       "</style>\n",
       "<table border=\"1\" class=\"dataframe\">\n",
       "  <thead>\n",
       "    <tr style=\"text-align: right;\">\n",
       "      <th></th>\n",
       "      <th>medalist_name</th>\n",
       "      <th>event</th>\n",
       "      <th>medal_color</th>\n",
       "    </tr>\n",
       "  </thead>\n",
       "  <tbody>\n",
       "    <tr>\n",
       "      <th>676</th>\n",
       "      <td>Ilario Di Buò</td>\n",
       "      <td>male_archery</td>\n",
       "      <td>silver</td>\n",
       "    </tr>\n",
       "    <tr>\n",
       "      <th>1043</th>\n",
       "      <td>Marco Galiazzo</td>\n",
       "      <td>male_archery</td>\n",
       "      <td>silver</td>\n",
       "    </tr>\n",
       "    <tr>\n",
       "      <th>1107</th>\n",
       "      <td>Mauro Nespoli</td>\n",
       "      <td>male_archery</td>\n",
       "      <td>silver</td>\n",
       "    </tr>\n",
       "    <tr>\n",
       "      <th>1314</th>\n",
       "      <td>Park Kyung-mo</td>\n",
       "      <td>male_archery</td>\n",
       "      <td>silver</td>\n",
       "    </tr>\n",
       "    <tr>\n",
       "      <th>2160</th>\n",
       "      <td>Chen Ling</td>\n",
       "      <td>female_archery</td>\n",
       "      <td>silver</td>\n",
       "    </tr>\n",
       "  </tbody>\n",
       "</table>\n",
       "</div>"
      ],
      "text/plain": [
       "       medalist_name           event medal_color\n",
       "676    Ilario Di Buò    male_archery      silver\n",
       "1043  Marco Galiazzo    male_archery      silver\n",
       "1107   Mauro Nespoli    male_archery      silver\n",
       "1314   Park Kyung-mo    male_archery      silver\n",
       "2160       Chen Ling  female_archery      silver"
      ]
     },
     "metadata": {},
     "output_type": "display_data"
    },
    {
     "data": {
      "text/html": [
       "<div>\n",
       "<style scoped>\n",
       "    .dataframe tbody tr th:only-of-type {\n",
       "        vertical-align: middle;\n",
       "    }\n",
       "\n",
       "    .dataframe tbody tr th {\n",
       "        vertical-align: top;\n",
       "    }\n",
       "\n",
       "    .dataframe thead th {\n",
       "        text-align: right;\n",
       "    }\n",
       "</style>\n",
       "<table border=\"1\" class=\"dataframe\">\n",
       "  <thead>\n",
       "    <tr style=\"text-align: right;\">\n",
       "      <th></th>\n",
       "      <th>medalist_name</th>\n",
       "      <th>event</th>\n",
       "      <th>medal_color</th>\n",
       "    </tr>\n",
       "  </thead>\n",
       "  <tbody>\n",
       "    <tr>\n",
       "      <th>177</th>\n",
       "      <td>Bair Badënov</td>\n",
       "      <td>male_archery</td>\n",
       "      <td>bronze</td>\n",
       "    </tr>\n",
       "    <tr>\n",
       "      <th>760</th>\n",
       "      <td>Jiang Lin</td>\n",
       "      <td>male_archery</td>\n",
       "      <td>bronze</td>\n",
       "    </tr>\n",
       "    <tr>\n",
       "      <th>950</th>\n",
       "      <td>Li Wenquan</td>\n",
       "      <td>male_archery</td>\n",
       "      <td>bronze</td>\n",
       "    </tr>\n",
       "    <tr>\n",
       "      <th>1768</th>\n",
       "      <td>Xue Haifeng</td>\n",
       "      <td>male_archery</td>\n",
       "      <td>bronze</td>\n",
       "    </tr>\n",
       "    <tr>\n",
       "      <th>2124</th>\n",
       "      <td>Bérengère Schuh</td>\n",
       "      <td>female_archery</td>\n",
       "      <td>bronze</td>\n",
       "    </tr>\n",
       "  </tbody>\n",
       "</table>\n",
       "</div>"
      ],
      "text/plain": [
       "        medalist_name           event medal_color\n",
       "177      Bair Badënov    male_archery      bronze\n",
       "760         Jiang Lin    male_archery      bronze\n",
       "950        Li Wenquan    male_archery      bronze\n",
       "1768      Xue Haifeng    male_archery      bronze\n",
       "2124  Bérengère Schuh  female_archery      bronze"
      ]
     },
     "metadata": {},
     "output_type": "display_data"
    }
   ],
   "source": [
    "is_not_gold = df_medals[\"medal_color\"].isin(['silver', 'bronze'])\n",
    "df_gold = df_medals[~is_not_gold]\n",
    "display(df_gold.head())\n",
    "\n",
    "is_not_silver = df_medals[\"medal_color\"].isin(['gold', 'bronze'])\n",
    "df_silver = df_medals[~is_not_silver]\n",
    "display(df_silver.head())\n",
    "\n",
    "is_not_bronze = df_medals[\"medal_color\"].isin(['silver', 'gold'])\n",
    "df_bronze = df_medals[~is_not_bronze]\n",
    "display(df_bronze.head())"
   ]
  },
  {
   "cell_type": "markdown",
   "id": "696ac42d",
   "metadata": {},
   "source": [
    "Aggregation function: Pivoing the all-medal tidy data"
   ]
  },
  {
   "cell_type": "code",
   "execution_count": 4,
   "id": "ce860e58",
   "metadata": {},
   "outputs": [
    {
     "data": {
      "text/html": [
       "<div>\n",
       "<style scoped>\n",
       "    .dataframe tbody tr th:only-of-type {\n",
       "        vertical-align: middle;\n",
       "    }\n",
       "\n",
       "    .dataframe tbody tr th {\n",
       "        vertical-align: top;\n",
       "    }\n",
       "\n",
       "    .dataframe thead th {\n",
       "        text-align: right;\n",
       "    }\n",
       "</style>\n",
       "<table border=\"1\" class=\"dataframe\">\n",
       "  <thead>\n",
       "    <tr style=\"text-align: right;\">\n",
       "      <th>medal_color</th>\n",
       "      <th>bronze</th>\n",
       "      <th>gold</th>\n",
       "      <th>silver</th>\n",
       "    </tr>\n",
       "  </thead>\n",
       "  <tbody>\n",
       "    <tr>\n",
       "      <th>177</th>\n",
       "      <td>Bair Badënov</td>\n",
       "      <td>NaN</td>\n",
       "      <td>NaN</td>\n",
       "    </tr>\n",
       "    <tr>\n",
       "      <th>676</th>\n",
       "      <td>NaN</td>\n",
       "      <td>NaN</td>\n",
       "      <td>Ilario Di Buò</td>\n",
       "    </tr>\n",
       "    <tr>\n",
       "      <th>682</th>\n",
       "      <td>NaN</td>\n",
       "      <td>Im Dong-hyun</td>\n",
       "      <td>NaN</td>\n",
       "    </tr>\n",
       "    <tr>\n",
       "      <th>760</th>\n",
       "      <td>Jiang Lin</td>\n",
       "      <td>NaN</td>\n",
       "      <td>NaN</td>\n",
       "    </tr>\n",
       "    <tr>\n",
       "      <th>920</th>\n",
       "      <td>NaN</td>\n",
       "      <td>Lee Chang-hwan</td>\n",
       "      <td>NaN</td>\n",
       "    </tr>\n",
       "    <tr>\n",
       "      <th>...</th>\n",
       "      <td>...</td>\n",
       "      <td>...</td>\n",
       "      <td>...</td>\n",
       "    </tr>\n",
       "    <tr>\n",
       "      <th>130932</th>\n",
       "      <td>NaN</td>\n",
       "      <td>Steeve Guénot</td>\n",
       "      <td>NaN</td>\n",
       "    </tr>\n",
       "    <tr>\n",
       "      <th>131159</th>\n",
       "      <td>Yannick Szczepaniak</td>\n",
       "      <td>NaN</td>\n",
       "      <td>NaN</td>\n",
       "    </tr>\n",
       "    <tr>\n",
       "      <th>131162</th>\n",
       "      <td>Yavor Yanakiev</td>\n",
       "      <td>NaN</td>\n",
       "      <td>NaN</td>\n",
       "    </tr>\n",
       "    <tr>\n",
       "      <th>131200</th>\n",
       "      <td>Yury Patrikeyev</td>\n",
       "      <td>NaN</td>\n",
       "      <td>NaN</td>\n",
       "    </tr>\n",
       "    <tr>\n",
       "      <th>131234</th>\n",
       "      <td>NaN</td>\n",
       "      <td>NaN</td>\n",
       "      <td>Zoltán Fodor</td>\n",
       "    </tr>\n",
       "  </tbody>\n",
       "</table>\n",
       "<p>1875 rows × 3 columns</p>\n",
       "</div>"
      ],
      "text/plain": [
       "medal_color               bronze            gold         silver\n",
       "177                 Bair Badënov             NaN            NaN\n",
       "676                          NaN             NaN  Ilario Di Buò\n",
       "682                          NaN    Im Dong-hyun            NaN\n",
       "760                    Jiang Lin             NaN            NaN\n",
       "920                          NaN  Lee Chang-hwan            NaN\n",
       "...                          ...             ...            ...\n",
       "130932                       NaN   Steeve Guénot            NaN\n",
       "131159       Yannick Szczepaniak             NaN            NaN\n",
       "131162            Yavor Yanakiev             NaN            NaN\n",
       "131200           Yury Patrikeyev             NaN            NaN\n",
       "131234                       NaN             NaN   Zoltán Fodor\n",
       "\n",
       "[1875 rows x 3 columns]"
      ]
     },
     "metadata": {},
     "output_type": "display_data"
    }
   ],
   "source": [
    "df_pivot = df_medals.pivot(columns=\"medal_color\", values=\"medalist_name\")\n",
    "display(df_pivot)"
   ]
  },
  {
   "cell_type": "markdown",
   "id": "686a4213",
   "metadata": {},
   "source": [
    "Results: While this loses the data on event medaled in, it does offer another way to look at the data by creating a table that better show who won what color medal."
   ]
  },
  {
   "cell_type": "markdown",
   "id": "cfb41427",
   "metadata": {},
   "source": [
    "## Visualizations\n",
    "1. Pie Chart - were there any anomalies that would lead to one medal being given out slightly more than another?"
   ]
  },
  {
   "cell_type": "code",
   "execution_count": 5,
   "id": "ce2d3c5e",
   "metadata": {},
   "outputs": [
    {
     "data": {
      "image/png": "[encoded data removed]",
      "text/plain": [
       "<Figure size 640x480 with 1 Axes>"
      ]
     },
     "metadata": {},
     "output_type": "display_data"
    }
   ],
   "source": [
    "import matplotlib.pyplot as plt\n",
    "df_medal_frequency = df_medals['medal_color'].value_counts()\n",
    "df_medal_frequency.plot.pie(y = \"medal_color\")\n",
    "plt.title('Medal Ratios')\n",
    "plt.ylabel('Medal Ratios')\n",
    "plt.show()\n",
    "#There appear to be exactly the same, or nearly exactly the same, number of medals for each metal which makes sense. No large anomalies here."
   ]
  },
  {
   "cell_type": "markdown",
   "id": "d0e5d7d8",
   "metadata": {},
   "source": [
    "Now for a more practical visualization - who has the most gold silver and bronze medals"
   ]
  },
  {
   "cell_type": "code",
   "execution_count": 6,
   "id": "246b93be",
   "metadata": {},
   "outputs": [
    {
     "data": {
      "image/png": "[encoded data removed]",
      "text/plain": [
       "<Figure size 640x480 with 1 Axes>"
      ]
     },
     "metadata": {},
     "output_type": "display_data"
    }
   ],
   "source": [
    "#Most Gold Medals\n",
    "num_golds = df_gold['medalist_name'].value_counts().sort_values(ascending=False)\n",
    "plt.hist(num_golds)\n",
    "plt.xlabel(\"Number of Golds Won\")\n",
    "plt.ylabel(\"Frequency\")\n",
    "plt.title(\"Distribution of gold medals won per person\")\n",
    "plt.show()"
   ]
  },
  {
   "cell_type": "markdown",
   "id": "1e7798b0",
   "metadata": {},
   "source": [
    "Results: The data shows that everyone who won a gold medal only won one gold medal; this is provably false. This prompted me to go back to the csv file where I learned that events are grouped up (i.e. every mens swimming evern is just under \"mens swimming\"). As such, the visualization accurately shows the data; the data is just not what I had expected. I will not repeat the exact same chart for bronze and silver."
   ]
  },
  {
   "cell_type": "markdown",
   "id": "863c6b0d",
   "metadata": {},
   "source": [
    "Next steps - I will reproduce this visualization for all medal colors to see if anyone won medals in more than one category - perhaps gold in one and bronze in another."
   ]
  },
  {
   "cell_type": "code",
   "execution_count": 7,
   "id": "13a5a1c1",
   "metadata": {},
   "outputs": [
    {
     "data": {
      "image/png": "[encoded data removed]",
      "text/plain": [
       "<Figure size 640x480 with 1 Axes>"
      ]
     },
     "metadata": {},
     "output_type": "display_data"
    }
   ],
   "source": [
    "num_categories_won = df_medals['medalist_name'].value_counts().sort_values(ascending=False)\n",
    "plt.hist(num_categories_won)\n",
    "plt.xlabel(\"Number of Categories Won\")\n",
    "plt.ylabel(\"Frequency\")\n",
    "plt.title(\"Distribution of medal categories won per person\")\n",
    "plt.show()"
   ]
  },
  {
   "cell_type": "markdown",
   "id": "06cde1e1",
   "metadata": {},
   "source": [
    "Result: No one medaled in more than one category (as grouped by the curators of this data) in the 2008 Olympics."
   ]
  }
 ],
 "metadata": {
  "kernelspec": {
   "display_name": "Python 3 (ipykernel)",
   "language": "python",
   "name": "python3"
  },
  "language_info": {
   "codemirror_mode": {
    "name": "ipython",
    "version": 3
   },
   "file_extension": ".py",
   "mimetype": "text/x-python",
   "name": "python",
   "nbconvert_exporter": "python",
   "pygments_lexer": "ipython3",
   "version": "3.11.5"
  }
 },
 "nbformat": 4,
 "nbformat_minor": 5
}
